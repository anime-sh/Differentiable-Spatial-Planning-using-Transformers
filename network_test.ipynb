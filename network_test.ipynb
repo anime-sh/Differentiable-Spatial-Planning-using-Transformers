{
  "cells": [
    {
      "cell_type": "code",
      "execution_count": null,
      "metadata": {
        "colab": {
          "background_save": true
        },
        "id": "KMz2FliW6bum",
        "outputId": "74cb1a47-ceb4-42ca-bcbd-0c3b2ca65513"
      },
      "outputs": [
        {
          "name": "stdout",
          "output_type": "stream",
          "text": [
            "Downloading 1lORbh70-sTXvY48ARifexxLsYepDcHSx into ./navdata_input_30.npy... Done.\n"
          ]
        }
      ],
      "source": [
        "from google_drive_downloader import GoogleDriveDownloader as gdd\n",
        "gdd.download_file_from_google_drive(file_id='1lORbh70-sTXvY48ARifexxLsYepDcHSx',\n",
        "                                    dest_path='./navdata_input_30.npy',\n",
        "                                    unzip=False)"
      ]
    },
    {
      "cell_type": "code",
      "execution_count": null,
      "metadata": {
        "colab": {
          "background_save": true
        },
        "id": "pIEQCWGd7i_4",
        "outputId": "8aba576e-1d66-4175-e597-856e0f4b702a"
      },
      "outputs": [
        {
          "name": "stdout",
          "output_type": "stream",
          "text": [
            "Downloading 10WwaIDmBo2cfdHJz4O0aABN0mIbF8ByH into ./navdata_output_30.npy... Done.\n"
          ]
        }
      ],
      "source": [
        "from google_drive_downloader import GoogleDriveDownloader as gdd\n",
        "gdd.download_file_from_google_drive(file_id='10WwaIDmBo2cfdHJz4O0aABN0mIbF8ByH',\n",
        "                                    dest_path='./navdata_output_30.npy',\n",
        "                                    unzip=False)"
      ]
    },
    {
      "cell_type": "code",
      "execution_count": null,
      "metadata": {
        "colab": {
          "background_save": true
        },
        "id": "mhTyHGrj--o1"
      },
      "outputs": [],
      "source": [
        "import numpy as np\n",
        "import torch \n",
        "import torch.nn as nn \n",
        "import torch.nn.functional as F\n",
        "from torch import autograd\n",
        "import matplotlib.pyplot as plt\n",
        "from torch.utils.data import Dataset, DataLoader\n",
        "import math\n",
        "import random"
      ]
    },
    {
      "cell_type": "code",
      "execution_count": null,
      "metadata": {
        "colab": {
          "background_save": true
        },
        "id": "_u7itSMvajD1"
      },
      "outputs": [],
      "source": [
        "def random_seed(seed_value, use_cuda):\n",
        "    np.random.seed(seed_value)  \n",
        "    torch.manual_seed(seed_value)  \n",
        "    random.seed(seed_value)\n",
        "    if use_cuda:\n",
        "        torch.cuda.manual_seed(seed_value)\n",
        "        torch.cuda.manual_seed_all(seed_value)  \n",
        "        torch.backends.cudnn.deterministic = True\n",
        "        torch.backends.cudnn.benchmark = False\n",
        "random_seed(42, True)"
      ]
    },
    {
      "cell_type": "code",
      "execution_count": null,
      "metadata": {
        "colab": {
          "background_save": true
        },
        "id": "-SfcsUYaCY9u"
      },
      "outputs": [],
      "source": [
        "class SyntheticNavigationDataset(Dataset):\n",
        "\n",
        "  #probably not a good idea to load 700 mb of data directly to RAM\n",
        "  #current dataset has 33000 maps ,  the paper uses 100000 \n",
        "\n",
        "  def __init__(self,x_file,y_file,n):\n",
        "    self.x_list = []\n",
        "    self.y_list = []\n",
        "    with open(x_file,'rb') as fx, open(y_file,'rb') as fy:\n",
        "      for i in range(n):\n",
        "        self.x_list.append(np.load(fx))\n",
        "        self.y_list.append(np.load(fy))\n",
        "  \n",
        "  def __len__(self):\n",
        "    return len(self.x_list)\n",
        "\n",
        "  def __getitem__(self,idx):\n",
        "    x_tensor = torch.from_numpy(self.x_list[idx].astype(np.float32))\n",
        "    y_tensor = torch.from_numpy(self.y_list[idx].astype(np.float32))\n",
        "    sample = {'x':x_tensor,'y':y_tensor}\n",
        "\n",
        "    return sample   "
      ]
    },
    {
      "cell_type": "code",
      "execution_count": null,
      "metadata": {
        "colab": {
          "background_save": true,
          "base_uri": "https://localhost:8080/"
        },
        "id": "Eo7KmSAyPKyZ",
        "outputId": "f284d6a5-af12-4942-b153-47b0a6868551"
      },
      "outputs": [
        {
          "name": "stdout",
          "output_type": "stream",
          "text": [
            "tensor([[[0., 0., 0.,  ..., 0., 0., 0.],\n",
            "         [0., 0., 0.,  ..., 0., 0., 0.],\n",
            "         [0., 0., 0.,  ..., 0., 0., 0.],\n",
            "         ...,\n",
            "         [0., 1., 1.,  ..., 1., 1., 0.],\n",
            "         [0., 1., 1.,  ..., 1., 1., 0.],\n",
            "         [0., 1., 1.,  ..., 1., 1., 0.]],\n",
            "\n",
            "        [[0., 0., 0.,  ..., 0., 0., 0.],\n",
            "         [0., 0., 0.,  ..., 0., 0., 0.],\n",
            "         [0., 0., 0.,  ..., 0., 0., 0.],\n",
            "         ...,\n",
            "         [0., 0., 0.,  ..., 0., 0., 0.],\n",
            "         [0., 0., 0.,  ..., 0., 0., 0.],\n",
            "         [0., 0., 0.,  ..., 0., 0., 0.]]])\n"
          ]
        }
      ],
      "source": [
        "nav_dataset = SyntheticNavigationDataset(x_file = './navdata_input_30.npy', y_file = './navdata_output_30.npy',n = 33000)\n",
        "sample = nav_dataset[10]\n",
        "print(sample['x'])\n"
      ]
    },
    {
      "cell_type": "code",
      "execution_count": null,
      "metadata": {
        "colab": {
          "background_save": true,
          "base_uri": "https://localhost:8080/"
        },
        "id": "zGrwL7e4Pfdc",
        "outputId": "fe6a0564-a8dc-4721-9e36-7ac47620c09d"
      },
      "outputs": [
        {
          "name": "stdout",
          "output_type": "stream",
          "text": [
            "tensor([[38., 37., 36., 35., 34., 33., 32., 31., 32., 33., 34., 35., 34., 33.,\n",
            "         32., 31., 32., 33., 34., 35., 36., 37., 38., 39., 40., 41., 42., 43.,\n",
            "         44., 45.],\n",
            "        [37., 36., 35., 34., 33., 32., 31., 30., -1., -1., -1., -1., -1., -1.,\n",
            "         -1., 30., 31., 32., 33., 34., 35., 36., 37., 38., 39., 40., 41., 42.,\n",
            "         43., 44.],\n",
            "        [36., 35., 34., 33., 32., 31., 30., 29., -1., -1., -1., -1., -1., -1.,\n",
            "         28., 29., 30., 31., 32., 33., 34., 35., 36., 37., 38., 39., 40., 41.,\n",
            "         42., 43.],\n",
            "        [35., 34., 33., 32., 31., 30., 29., 28., -1., -1., -1., -1., -1., -1.,\n",
            "         27., 28., 29., 30., 31., 32., 33., 34., 35., 36., 37., 38., 39., 40.,\n",
            "         41., 42.],\n",
            "        [34., 33., 32., 31., 30., 29., 28., 27., -1., -1., -1., -1., -1., -1.,\n",
            "         26., 27., 28., 29., 30., 31., 32., 33., 34., 35., 36., 37., 38., 39.,\n",
            "         40., 41.],\n",
            "        [33., 32., 31., 30., 29., 28., 27., 26., -1., -1., -1., -1., -1., -1.,\n",
            "         25., 26., 27., 28., 29., 30., 31., 32., 33., 34., 35., 36., 37., 38.,\n",
            "         39., 40.],\n",
            "        [32., 31., 30., 29., 28., 27., 26., 25., -1., -1., -1., -1., -1., -1.,\n",
            "         24., 25., 26., 27., 28., 29., 30., 31., 32., 33., 34., 35., 36., 37.,\n",
            "         38., 39.],\n",
            "        [31., 30., 29., 28., 27., 26., 25., 24., 23., 22., 21., -1., -1., -1.,\n",
            "         23., 24., 25., 26., 27., 28., 29., 30., 31., 32., 33., 34., 35., 36.,\n",
            "         37., 38.],\n",
            "        [30., 29., 28., 27., 26., 25., 24., 23., 22., 21., 20., 19., 20., 21.,\n",
            "         22., 23., 24., 25., 26., 27., 28., 29., 30., 31., 32., 33., 34., 35.,\n",
            "         36., 37.],\n",
            "        [29., 28., 27., 26., 25., 24., 23., 22., 21., 20., 19., 18., 19., 20.,\n",
            "         21., 22., 23., 24., 25., 26., 27., 28., 29., 30., 31., 32., 33., 34.,\n",
            "         35., 36.],\n",
            "        [28., 27., 26., 25., 24., 23., 22., 21., 20., 19., 18., 17., 18., 19.,\n",
            "         20., 21., 22., 23., 24., 25., 26., 27., 28., 29., 30., 31., 32., 33.,\n",
            "         34., 35.],\n",
            "        [27., 26., 25., 24., 23., 22., 21., 20., 19., 18., 17., 16., 17., 18.,\n",
            "         19., 20., 21., 22., 23., 24., 25., 26., 27., 28., 29., 30., 31., 32.,\n",
            "         33., 34.],\n",
            "        [26., 25., 24., 23., 22., 21., 20., 19., 18., 17., 16., 15., 16., 17.,\n",
            "         18., 19., 20., 21., 22., 23., 24., 25., 26., 27., 28., 29., 30., 31.,\n",
            "         32., 33.],\n",
            "        [25., 24., 23., 22., 21., 20., 19., 18., 17., 16., 15., 14., 15., 16.,\n",
            "         17., 18., 19., 20., 21., 22., 23., 24., 25., 26., 27., 28., 29., 30.,\n",
            "         31., 32.],\n",
            "        [24., 23., 22., 21., 20., 19., 18., 17., 16., 15., 14., 13., 14., 15.,\n",
            "         16., 17., 18., 19., 20., 21., 22., 23., 24., 25., 26., 27., 28., 29.,\n",
            "         30., 31.],\n",
            "        [23., 22., 21., 20., 19., 18., 17., 16., 15., 14., 13., 12., 13., 14.,\n",
            "         15., 16., 17., 18., 19., 20., 21., 22., 23., 24., 25., 26., 27., 28.,\n",
            "         29., 30.],\n",
            "        [22., 21., 20., 19., 18., 17., 16., 15., 14., 13., 12., 11., 12., 13.,\n",
            "         14., 15., 16., 17., 18., 19., 20., 21., 22., 23., 24., 25., 26., 27.,\n",
            "         28., 29.],\n",
            "        [21., 20., 19., 18., 17., 16., 15., 14., 13., 12., 11., 10., 11., 12.,\n",
            "         13., 14., 15., 16., 17., 18., 19., 20., 21., 22., 23., 24., 25., 26.,\n",
            "         27., 28.],\n",
            "        [20., 19., 18., 17., 16., 15., 14., 13., 12., 11., 10.,  9., 10., 11.,\n",
            "         12., 13., 14., 15., 16., 17., 18., 19., 20., 21., 22., 23., 24., 25.,\n",
            "         26., 27.],\n",
            "        [19., 18., 17., 16., 15., 14., 13., 12., 11., 10.,  9.,  8.,  9., 10.,\n",
            "         11., 12., 13., 14., 15., 16., 17., 18., 19., 20., 21., 22., 23., 24.,\n",
            "         25., 26.],\n",
            "        [18., 17., 16., 15., 14., 13., 12., 11., 10.,  9.,  8.,  7.,  8.,  9.,\n",
            "         10., 11., 12., 13., 14., 15., 16., 17., 18., 19., 20., 21., 22., 23.,\n",
            "         24., 25.],\n",
            "        [17., 16., 15., 14., 13., 12., 11., 10.,  9.,  8.,  7.,  6.,  7.,  8.,\n",
            "          9., 10., 11., 12., 13., 14., 15., 16., 17., 18., 19., 20., 21., 22.,\n",
            "         23., 24.],\n",
            "        [18., 17., 16., 15., -1., -1., 10.,  9.,  8.,  7.,  6.,  5.,  6.,  7.,\n",
            "          8.,  9., 10., 11., 12., 13., 14., 15., 16., -1., -1., -1., -1., -1.,\n",
            "         -1., 25.],\n",
            "        [19., 18., -1., -1., -1., -1.,  9.,  8.,  7.,  6.,  5.,  4.,  5.,  6.,\n",
            "          7.,  8.,  9., 10., 11., 12., 13., 14., -1., -1., -1., -1., -1., -1.,\n",
            "         -1., -1.],\n",
            "        [20., -1., -1., -1., -1., -1., -1.,  7.,  6.,  5.,  4.,  3.,  4.,  5.,\n",
            "          6.,  7.,  8.,  9., 10., 11., 12., 13., -1., -1., -1., -1., -1., -1.,\n",
            "         -1., -1.],\n",
            "        [21., -1., -1., -1., -1., -1., -1.,  6.,  5.,  4.,  3.,  2.,  3.,  4.,\n",
            "          5.,  6.,  7.,  8.,  9., 10., 11., 12., -1., -1., -1., -1., -1., -1.,\n",
            "         -1., -1.],\n",
            "        [22., -1., -1., -1., -1., -1., -1., -1.,  4.,  3.,  2.,  1.,  2.,  3.,\n",
            "          4.,  5.,  6.,  7.,  8.,  9., 10., 11., -1., -1., -1., -1., -1., -1.,\n",
            "         -1., -1.],\n",
            "        [23., -1., -1., -1., -1., -1., -1., -1.,  3.,  2.,  1.,  0.,  1.,  2.,\n",
            "          3.,  4.,  5.,  6.,  7.,  8.,  9., 10., -1., -1., -1., -1., -1., -1.,\n",
            "         -1., -1.],\n",
            "        [24., -1., -1., -1., -1., -1., -1., -1., -1.,  3.,  2.,  1.,  2.,  3.,\n",
            "          4.,  5.,  6.,  7.,  8.,  9., 10., 11., -1., -1., -1., -1., -1., -1.,\n",
            "         -1., -1.],\n",
            "        [25., -1., -1., -1., -1., -1., -1., -1., -1.,  4.,  3.,  2.,  3.,  4.,\n",
            "          5.,  6.,  7.,  8.,  9., 10., 11., -1., -1., -1., -1., -1., -1., -1.,\n",
            "         -1., -1.]])\n"
          ]
        }
      ],
      "source": [
        "sample = nav_dataset[10]\n",
        "print(sample['y'])"
      ]
    },
    {
      "cell_type": "code",
      "execution_count": null,
      "metadata": {
        "colab": {
          "background_save": true,
          "base_uri": "https://localhost:8080/",
          "height": 266
        },
        "id": "H2my5YA92P0w",
        "outputId": "e9364ae8-a5fd-4993-fcf9-8910a4211568"
      },
      "outputs": [
        {
          "data": {
            "image/png": "[encoded data removed]",
            "text/plain": [
              "<Figure size 432x288 with 1 Axes>"
            ]
          },
          "metadata": {},
          "output_type": "display_data"
        }
      ],
      "source": [
        "plt.imshow(sample['x'][0], cmap='hot', interpolation='nearest')\n",
        "plt.show()"
      ]
    },
    {
      "cell_type": "code",
      "execution_count": null,
      "metadata": {
        "colab": {
          "background_save": true,
          "base_uri": "https://localhost:8080/",
          "height": 266
        },
        "id": "Oi4BtSCH2cUF",
        "outputId": "9e4f870b-9a25-4b07-c504-ba86d9a92d7a"
      },
      "outputs": [
        {
          "data": {
            "image/png": "[encoded data removed]",
            "text/plain": [
              "<Figure size 432x288 with 1 Axes>"
            ]
          },
          "metadata": {},
          "output_type": "display_data"
        }
      ],
      "source": [
        "plt.imshow(sample['x'][1], cmap='hot', interpolation='nearest')\n",
        "plt.show()"
      ]
    },
    {
      "cell_type": "code",
      "execution_count": null,
      "metadata": {
        "colab": {
          "background_save": true,
          "base_uri": "https://localhost:8080/",
          "height": 266
        },
        "id": "87GTniEx1uwv",
        "outputId": "d6143e34-2a57-46f0-b8fd-2ebf8650c93c"
      },
      "outputs": [
        {
          "data": {
            "image/png": "[encoded data removed]",
            "text/plain": [
              "<Figure size 432x288 with 1 Axes>"
            ]
          },
          "metadata": {},
          "output_type": "display_data"
        }
      ],
      "source": [
        "plt.imshow(sample['y'], cmap='hot', interpolation='nearest')\n",
        "plt.show()"
      ]
    },
    {
      "cell_type": "code",
      "execution_count": null,
      "metadata": {
        "colab": {
          "background_save": true
        },
        "id": "1WpkQWBtf8AN"
      },
      "outputs": [],
      "source": [
        "# class NeuralNetwork1(nn.Module):\n",
        "  \n",
        "#   def __init__(self):\n",
        "#     super().__init__()\n",
        "#     self.conv1 = nn.Conv2d(2,8,1)\n",
        "#     self.conv2 = nn.Conv2d(8,64,1) #embedding size d = 64 apparently ? not sure how the two conv layers are actually connected\n",
        "#     self.flatten = nn.Flatten(start_dim = 2)\n",
        "\n",
        "#   def forward(self,x):\n",
        "#     x = F.relu(self.conv1(x))\n",
        "#     x = F.relu(self.conv2(x))\n",
        "#     x = self.flatten(x)\n",
        "\n",
        "#     #positional encoding \n",
        "#     #d = 64 , M^2 = 900\n",
        "#     #dry testing with fixed values\n",
        "    \n",
        "#     P = np.random.rand(64,900)\n",
        "\n",
        "#     for j in range(900):\n",
        "#       for i in range(32):\n",
        "#         P[2*i,j] = math.sin(j/(900**(2*i/64)))\n",
        "#       for i in range(32):\n",
        "#         P[2*i+1,j] = math.cos(j/(900**(2*i/64)))\n",
        "\n",
        "#     p = torch.from_numpy(P)\n",
        "#     p = p.to('cuda')\n",
        "#     x = x + p\n",
        "#     #I guess this handles the positional encoding part\n",
        "\n",
        "#     return x"
      ]
    },
    {
      "cell_type": "code",
      "execution_count": null,
      "metadata": {
        "colab": {
          "background_save": true,
          "base_uri": "https://localhost:8080/"
        },
        "id": "Bx17hjkGCn3N",
        "outputId": "b888ebf3-4c91-4458-ebe0-401cf80e1df0"
      },
      "outputs": [
        {
          "name": "stdout",
          "output_type": "stream",
          "text": [
            "Using cpu device\n"
          ]
        }
      ],
      "source": [
        "device = 'cuda' if torch.cuda.is_available() else 'cpu'\n",
        "print(f'Using {device} device')"
      ]
    },
    {
      "cell_type": "code",
      "execution_count": null,
      "metadata": {
        "colab": {
          "background_save": true
        },
        "id": "Gwb82TonD6aS"
      },
      "outputs": [],
      "source": [
        "# model = NeuralNetwork1().to(device)\n",
        "# print(model)"
      ]
    },
    {
      "cell_type": "code",
      "execution_count": null,
      "metadata": {
        "colab": {
          "background_save": true
        },
        "id": "pVqIo_jNFIWz"
      },
      "outputs": [],
      "source": [
        "# X = torch.rand(1,2,30,30, device=device)\n",
        "# tes1 = model(X)\n",
        "# print(tes1.shape)"
      ]
    },
    {
      "cell_type": "code",
      "execution_count": null,
      "metadata": {
        "colab": {
          "background_save": true
        },
        "id": "dsys4McALJuc"
      },
      "outputs": [],
      "source": [
        "class NeuralNetwork2(nn.Module):\n",
        "  \n",
        "  def __init__(self):\n",
        "    super().__init__()\n",
        "    # LeNet()\n",
        "    self.conv1 = nn.Conv2d(in_channels = 2,out_channels = 8, kernel_size = 1)\n",
        "    # self.pool = nn.MaxPool2d(2,2)\n",
        "    self.conv2 = nn.Conv2d(8,64,1) #embedding size d = 64 apparently ? not sure how the two conv layers are actually connected\n",
        "    self.flatten = nn.Flatten(start_dim = 2)\n",
        "\n",
        "    # Positional Encoding\n",
        "    self.P = np.zeros((64,900))\n",
        "    for j in range(900):\n",
        "      for i in range(1,33):\n",
        "        self.P[2*i-2,j] = math.sin(j/(900**(2*i/64)))\n",
        "      for i in range(1,33):\n",
        "        self.P[2*i-1,j] = math.cos(j/(900**(2*i/64)))\n",
        "    self.P = torch.from_numpy(self.P.astype(np.float32))\n",
        "    self.P = self.P.to('cuda')\n",
        "    print(f'P nantest = {torch.isnan(self.P).any()}')\n",
        "    # Encoder\n",
        "    self.transformerlayer1 = nn.TransformerEncoderLayer(d_model=900, nhead=9, dim_feedforward=512, dropout=0, layer_norm_eps=1e-05, batch_first=False, norm_first=False, device=None, dtype=None)\n",
        "    self.transformerlayer2 = nn.TransformerEncoderLayer(d_model=900, nhead=9, dim_feedforward=512, dropout=0, layer_norm_eps=1e-05, batch_first=False, norm_first=False, device=None, dtype=None)\n",
        "    self.transformerlayer3 = nn.TransformerEncoderLayer(d_model=900, nhead=9, dim_feedforward=512, dropout=0, layer_norm_eps=1e-05, batch_first=False, norm_first=False, device=None, dtype=None)\n",
        "    self.transformerlayer4 = nn.TransformerEncoderLayer(d_model=900, nhead=9, dim_feedforward=512, dropout=0, layer_norm_eps=1e-05, batch_first=False, norm_first=False, device=None, dtype=None)\n",
        "    self.transformerlayer5 = nn.TransformerEncoderLayer(d_model=900, nhead=9, dim_feedforward=512, dropout=0, layer_norm_eps=1e-05, batch_first=False, norm_first=False, device=None, dtype=None)\n",
        "\n",
        "    # Decoder\n",
        "    self.fc1 = nn.Linear(64,1)\n",
        "    # self.fc1 = nn.Conv1d(in_channels = 64,out_channels=1,kernel_size=1)\n",
        "\n",
        "  def forward(self,x):\n",
        "    # print(f'x input nantest = {torch.isnan(x).any()}')\n",
        "    # print(f'x before conv = {x}')    \n",
        "    x = F.relu(self.conv1(x))\n",
        "    x = F.relu(self.conv2(x))\n",
        "    # print(f'x after conv = {x}')  \n",
        "    # print(f'x conv nantest = {torch.isnan(x).any()}')\n",
        "    x = self.flatten(x)\n",
        "\n",
        "    x = (x + self.P)\n",
        "    # print(f'x + positional encoding nantest = {torch.isnan(x).any()}')\n",
        "    x = self.transformerlayer1(x)\n",
        "    x = self.transformerlayer2(x)\n",
        "    x = self.transformerlayer3(x)\n",
        "    x = self.transformerlayer4(x)\n",
        "    x = self.transformerlayer5(x)\n",
        "    # print(f'x transformer nantest = {torch.isnan(x).any()}')\n",
        "    x = x.permute(0,2,1)\n",
        "    # x = self.fc1(x)\n",
        "    x = x.permute(0,2,1)\n",
        "\n",
        "    # print(f'x fc1 nantest = {torch.isnan(x).any()}')\n",
        "    return x"
      ]
    },
    {
      "cell_type": "code",
      "execution_count": null,
      "metadata": {
        "colab": {
          "background_save": true,
          "base_uri": "https://localhost:8080/"
        },
        "id": "Mj4EL_bVLJx5",
        "outputId": "50516dc0-eb54-4b28-f7e2-2b919f369730"
      },
      "outputs": [
        {
          "ename": "RuntimeError",
          "evalue": "ignored",
          "output_type": "error",
          "traceback": [
            "\u001b[0;31m---------------------------------------------------------------------------\u001b[0m",
            "\u001b[0;31mRuntimeError\u001b[0m                              Traceback (most recent call last)",
            "\u001b[0;32m<ipython-input-17-faa55f2aadc9>\u001b[0m in \u001b[0;36m<module>\u001b[0;34m()\u001b[0m\n\u001b[0;32m----> 1\u001b[0;31m \u001b[0mmodel\u001b[0m \u001b[0;34m=\u001b[0m \u001b[0mNeuralNetwork2\u001b[0m\u001b[0;34m(\u001b[0m\u001b[0;34m)\u001b[0m\u001b[0;34m.\u001b[0m\u001b[0mto\u001b[0m\u001b[0;34m(\u001b[0m\u001b[0mdevice\u001b[0m\u001b[0;34m)\u001b[0m\u001b[0;34m\u001b[0m\u001b[0;34m\u001b[0m\u001b[0m\n\u001b[0m\u001b[1;32m      2\u001b[0m \u001b[0mprint\u001b[0m\u001b[0;34m(\u001b[0m\u001b[0mmodel\u001b[0m\u001b[0;34m)\u001b[0m\u001b[0;34m\u001b[0m\u001b[0;34m\u001b[0m\u001b[0m\n",
            "\u001b[0;32m<ipython-input-16-91226619a248>\u001b[0m in \u001b[0;36m__init__\u001b[0;34m(self)\u001b[0m\n\u001b[1;32m     17\u001b[0m         \u001b[0mself\u001b[0m\u001b[0;34m.\u001b[0m\u001b[0mP\u001b[0m\u001b[0;34m[\u001b[0m\u001b[0;36m2\u001b[0m\u001b[0;34m*\u001b[0m\u001b[0mi\u001b[0m\u001b[0;34m-\u001b[0m\u001b[0;36m1\u001b[0m\u001b[0;34m,\u001b[0m\u001b[0mj\u001b[0m\u001b[0;34m]\u001b[0m \u001b[0;34m=\u001b[0m \u001b[0mmath\u001b[0m\u001b[0;34m.\u001b[0m\u001b[0mcos\u001b[0m\u001b[0;34m(\u001b[0m\u001b[0mj\u001b[0m\u001b[0;34m/\u001b[0m\u001b[0;34m(\u001b[0m\u001b[0;36m900\u001b[0m\u001b[0;34m**\u001b[0m\u001b[0;34m(\u001b[0m\u001b[0;36m2\u001b[0m\u001b[0;34m*\u001b[0m\u001b[0mi\u001b[0m\u001b[0;34m/\u001b[0m\u001b[0;36m64\u001b[0m\u001b[0;34m)\u001b[0m\u001b[0;34m)\u001b[0m\u001b[0;34m)\u001b[0m\u001b[0;34m\u001b[0m\u001b[0;34m\u001b[0m\u001b[0m\n\u001b[1;32m     18\u001b[0m     \u001b[0mself\u001b[0m\u001b[0;34m.\u001b[0m\u001b[0mP\u001b[0m \u001b[0;34m=\u001b[0m \u001b[0mtorch\u001b[0m\u001b[0;34m.\u001b[0m\u001b[0mfrom_numpy\u001b[0m\u001b[0;34m(\u001b[0m\u001b[0mself\u001b[0m\u001b[0;34m.\u001b[0m\u001b[0mP\u001b[0m\u001b[0;34m.\u001b[0m\u001b[0mastype\u001b[0m\u001b[0;34m(\u001b[0m\u001b[0mnp\u001b[0m\u001b[0;34m.\u001b[0m\u001b[0mfloat32\u001b[0m\u001b[0;34m)\u001b[0m\u001b[0;34m)\u001b[0m\u001b[0;34m\u001b[0m\u001b[0;34m\u001b[0m\u001b[0m\n\u001b[0;32m---> 19\u001b[0;31m     \u001b[0mself\u001b[0m\u001b[0;34m.\u001b[0m\u001b[0mP\u001b[0m \u001b[0;34m=\u001b[0m \u001b[0mself\u001b[0m\u001b[0;34m.\u001b[0m\u001b[0mP\u001b[0m\u001b[0;34m.\u001b[0m\u001b[0mto\u001b[0m\u001b[0;34m(\u001b[0m\u001b[0;34m'cuda'\u001b[0m\u001b[0;34m)\u001b[0m\u001b[0;34m\u001b[0m\u001b[0;34m\u001b[0m\u001b[0m\n\u001b[0m\u001b[1;32m     20\u001b[0m     \u001b[0mprint\u001b[0m\u001b[0;34m(\u001b[0m\u001b[0;34mf'P nantest = {torch.isnan(self.P).any()}'\u001b[0m\u001b[0;34m)\u001b[0m\u001b[0;34m\u001b[0m\u001b[0;34m\u001b[0m\u001b[0m\n\u001b[1;32m     21\u001b[0m     \u001b[0;31m# Encoder\u001b[0m\u001b[0;34m\u001b[0m\u001b[0;34m\u001b[0m\u001b[0;34m\u001b[0m\u001b[0m\n",
            "\u001b[0;32m/usr/local/lib/python3.7/dist-packages/torch/cuda/__init__.py\u001b[0m in \u001b[0;36m_lazy_init\u001b[0;34m()\u001b[0m\n\u001b[1;32m    212\u001b[0m         \u001b[0;31m# This function throws if there's a driver initialization error, no GPUs\u001b[0m\u001b[0;34m\u001b[0m\u001b[0;34m\u001b[0m\u001b[0;34m\u001b[0m\u001b[0m\n\u001b[1;32m    213\u001b[0m         \u001b[0;31m# are found or any other error occurs\u001b[0m\u001b[0;34m\u001b[0m\u001b[0;34m\u001b[0m\u001b[0;34m\u001b[0m\u001b[0m\n\u001b[0;32m--> 214\u001b[0;31m         \u001b[0mtorch\u001b[0m\u001b[0;34m.\u001b[0m\u001b[0m_C\u001b[0m\u001b[0;34m.\u001b[0m\u001b[0m_cuda_init\u001b[0m\u001b[0;34m(\u001b[0m\u001b[0;34m)\u001b[0m\u001b[0;34m\u001b[0m\u001b[0;34m\u001b[0m\u001b[0m\n\u001b[0m\u001b[1;32m    215\u001b[0m         \u001b[0;31m# Some of the queued calls may reentrantly call _lazy_init();\u001b[0m\u001b[0;34m\u001b[0m\u001b[0;34m\u001b[0m\u001b[0;34m\u001b[0m\u001b[0m\n\u001b[1;32m    216\u001b[0m         \u001b[0;31m# we need to just return without initializing in that case.\u001b[0m\u001b[0;34m\u001b[0m\u001b[0;34m\u001b[0m\u001b[0;34m\u001b[0m\u001b[0m\n",
            "\u001b[0;31mRuntimeError\u001b[0m: No CUDA GPUs are available"
          ]
        }
      ],
      "source": [
        "model = NeuralNetwork2().to(device)\n",
        "print(model)"
      ]
    },
    {
      "cell_type": "code",
      "execution_count": null,
      "metadata": {
        "colab": {
          "background_save": true
        },
        "id": "1NG8ZnKzLJ04"
      },
      "outputs": [],
      "source": [
        "X = torch.rand(1,2,30,30, device=device)\n",
        "tes1 = model(X)\n",
        "print(tes1.shape)"
      ]
    },
    {
      "cell_type": "code",
      "execution_count": null,
      "metadata": {
        "colab": {
          "background_save": true
        },
        "id": "yHZMfEqZLJ3-"
      },
      "outputs": [],
      "source": [
        "tes1 = torch.reshape(tes1,(30,30))"
      ]
    },
    {
      "cell_type": "code",
      "execution_count": null,
      "metadata": {
        "colab": {
          "background_save": true
        },
        "id": "TzNaMugFLJ69"
      },
      "outputs": [],
      "source": [
        "print(tes1.shape)"
      ]
    },
    {
      "cell_type": "code",
      "execution_count": null,
      "metadata": {
        "colab": {
          "background_save": true
        },
        "id": "_bU4XZ_KLKB-"
      },
      "outputs": [],
      "source": [
        "tes1 = tes1.to('cpu').detach().numpy()"
      ]
    },
    {
      "cell_type": "code",
      "execution_count": null,
      "metadata": {
        "colab": {
          "background_save": true
        },
        "id": "pCgKAvaXLKFV"
      },
      "outputs": [],
      "source": [
        "plt.imshow(tes1, cmap='hot', interpolation='nearest')\n",
        "plt.show()"
      ]
    },
    {
      "cell_type": "code",
      "execution_count": null,
      "metadata": {
        "colab": {
          "background_save": true
        },
        "id": "OoTmhLOm2kwY"
      },
      "outputs": [],
      "source": [
        "from torch.utils.data import DataLoader\n",
        "\n",
        "train_dataloader = DataLoader(nav_dataset, batch_size=20, shuffle=True)"
      ]
    },
    {
      "cell_type": "code",
      "execution_count": null,
      "metadata": {
        "colab": {
          "background_save": true
        },
        "id": "TLJAQVom7PqY"
      },
      "outputs": [],
      "source": [
        "def train_loop(dataloader, model, loss_fn, optimizer):\n",
        "    size = len(dataloader.dataset)\n",
        "\n",
        "    # with autograd.detect_anomaly():\n",
        "    for batch, sample in enumerate(dataloader):\n",
        "        # Compute prediction and loss\n",
        "        # sample = sample.to(device)\n",
        "        pred = model(sample['x'].to(device))\n",
        "        sample['y'] = sample['y'].to(device)\n",
        "        # print(pred.shape)\n",
        "        # print(sample['y'].shape)\n",
        "        # break\n",
        "        loss = loss_fn(torch.reshape(pred,(-1,30,30)), sample['y'])\n",
        "\n",
        "        # Backpropagation\n",
        "        optimizer.zero_grad()\n",
        "        loss.backward()\n",
        "        torch.nn.utils.clip_grad_norm_(model.parameters(), 1.0)\n",
        "        optimizer.step()\n",
        "\n",
        "        if batch % 100 == 0:\n",
        "            loss, current = loss.item(), batch * len(X)\n",
        "            print(f\"loss: {loss:>7f}  [{current:>5d}/{size:>5d}]\")\n",
        "\n",
        "\n",
        "def test_loop(dataloader, model, loss_fn):\n",
        "    size = len(dataloader.dataset)\n",
        "    num_batches = len(dataloader)\n",
        "    test_loss, correct = 0, 0\n",
        "\n",
        "    with torch.no_grad():\n",
        "        for sample in dataloader:\n",
        "            pred = model(sample['x'].to(device))\n",
        "            sample['y'] = sample['y'].to(device)\n",
        "            test_loss += loss_fn(torch.reshape(pred,(-1,30,30)), sample['y']).item()\n",
        "            correct += (pred.argmax(1) == y).type(torch.float).sum().item()\n",
        "\n",
        "    test_loss /= num_batches\n",
        "    correct /= size\n",
        "    print(f\"Test Error: \\n Accuracy: {(100*correct):>0.1f}%, Avg loss: {test_loss:>8f} \\n\")"
      ]
    },
    {
      "cell_type": "code",
      "execution_count": null,
      "metadata": {
        "colab": {
          "background_save": true
        },
        "id": "4xuAmoOV7ULc"
      },
      "outputs": [],
      "source": [
        "loss_fn = nn.MSELoss()\n",
        "optimizer = torch.optim.SGD(model.parameters(), lr=1)\n",
        "from torch.optim.lr_scheduler import StepLR\n",
        "scheduler = StepLR(optimizer, step_size=1, gamma=0.9)\n",
        "epochs = 40\n",
        "for t in range(epochs):\n",
        "    print(f\"Epoch {t+1}\\n-------------------------------\")\n",
        "    train_loop(train_dataloader, model, loss_fn, optimizer)\n",
        "    # test_loop(train_dataloader, model, loss_fn)\n",
        "    scheduler.step()\n",
        "print(\"Done!\")"
      ]
    },
    {
      "cell_type": "code",
      "execution_count": null,
      "metadata": {
        "colab": {
          "background_save": true
        },
        "id": "ZEc7khTyPhWv"
      },
      "outputs": [],
      "source": [
        "torch.save(model.state_dict(), 'model_weights.pth')"
      ]
    },
    {
      "cell_type": "code",
      "execution_count": null,
      "metadata": {
        "colab": {
          "background_save": true
        },
        "id": "qwumysStPhxy"
      },
      "outputs": [],
      "source": [
        "model.eval()"
      ]
    },
    {
      "cell_type": "code",
      "execution_count": null,
      "metadata": {
        "colab": {
          "background_save": true
        },
        "id": "Rx7545AEPtZ5"
      },
      "outputs": [],
      "source": [
        "sample = nav_dataset[10]\n",
        "sample['x'] = torch.reshape(sample['x'],(1,2,30,30))\n",
        "output = model(sample['x'].to(device))\n",
        "output = torch.reshape(output,(30,30))\n",
        "output = output.to('cpu').detach().numpy()\n",
        "\n",
        "plt.imshow(output, cmap='hot', interpolation='nearest')\n",
        "plt.show()"
      ]
    },
    {
      "cell_type": "code",
      "execution_count": null,
      "metadata": {
        "colab": {
          "background_save": true
        },
        "id": "YgPF0HAdQREc"
      },
      "outputs": [],
      "source": [
        "plt.imshow(sample['y'], cmap='hot', interpolation='nearest')\n",
        "plt.show()"
      ]
    },
    {
      "cell_type": "code",
      "execution_count": null,
      "metadata": {
        "colab": {
          "background_save": true
        },
        "id": "yXCN_XwiQeRI"
      },
      "outputs": [],
      "source": [
        ""
      ]
    }
  ],
  "metadata": {
    "accelerator": "GPU",
    "colab": {
      "collapsed_sections": [],
      "name": "network_test.ipynb",
      "provenance": []
    },
    "kernelspec": {
      "display_name": "Python 3",
      "name": "python3"
    },
    "language_info": {
      "name": "python"
    }
  },
  "nbformat": 4,
  "nbformat_minor": 0
}